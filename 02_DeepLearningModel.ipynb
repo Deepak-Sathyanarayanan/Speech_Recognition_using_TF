{
 "cells": [
  {
   "cell_type": "code",
   "execution_count": 1,
   "metadata": {},
   "outputs": [],
   "source": [
    "import json\n",
    "import numpy as np\n",
    "import pandas as pd\n",
    "import tensorflow as tf\n",
    "import matplotlib.pyplot as plt\n",
    "from sklearn.model_selection import train_test_split\n",
    "import random"
   ]
  },
  {
   "cell_type": "code",
   "execution_count": 2,
   "metadata": {},
   "outputs": [],
   "source": [
    "data_path = '/Users/deepak/Desktop/Data Science/Springboard/SB_Capstone2/data.json'\n",
    "\n",
    "with open(data_path, 'r') as fp:\n",
    "    data = json.load(fp)\n",
    "    \n",
    "X = np.array(data['MFCCs'])\n",
    "y = np.array(data['labels'])"
   ]
  },
  {
   "cell_type": "code",
   "execution_count": 3,
   "metadata": {},
   "outputs": [
    {
     "name": "stdout",
     "output_type": "stream",
     "text": [
      "shape of X - (65511, 44, 13)\n",
      "shape of y - (65511,)\n"
     ]
    }
   ],
   "source": [
    "print('shape of X - {}'.format(X.shape))\n",
    "print('shape of y - {}'.format(y.shape))"
   ]
  },
  {
   "cell_type": "code",
   "execution_count": 4,
   "metadata": {},
   "outputs": [],
   "source": [
    "random.seed(10)\n",
    "test_size=0.2\n",
    "validation_size=0.2\n",
    "    \n",
    "# create train, validation, test split\n",
    "X_train, X_test, y_train, y_test = train_test_split(X, y, test_size=test_size)\n",
    "X_train, X_validation, y_train, y_validation = train_test_split(X_train, y_train, test_size=validation_size)"
   ]
  },
  {
   "cell_type": "code",
   "execution_count": 5,
   "metadata": {},
   "outputs": [
    {
     "name": "stdout",
     "output_type": "stream",
     "text": [
      "shape of x train - (41926, 44, 13)\n",
      "shape of x validation - (10482, 44, 13)\n",
      "shape of y train - (41926,)\n",
      "shape of y validation - (10482,)\n",
      "\n",
      "Unique Labels - {0, 1, 2, 3, 4, 5, 6, 7, 8, 9, 10, 11, 12, 13, 14, 15, 16, 17, 18, 19, 20, 21, 22, 23, 24, 25, 26, 27, 28, 29, 30}\n"
     ]
    }
   ],
   "source": [
    "print('shape of x train - {}'.format(X_train.shape))\n",
    "print('shape of x validation - {}'.format(X_validation.shape))\n",
    "print('shape of y train - {}'.format(y_train.shape))\n",
    "print('shape of y validation - {}'.format(y_validation.shape))\n",
    "print('\\nUnique Labels - {}'.format((set(y_train))))"
   ]
  },
  {
   "cell_type": "code",
   "execution_count": 6,
   "metadata": {},
   "outputs": [],
   "source": [
    "# add an axis to nd array\n",
    "X_train = X_train[..., np.newaxis]\n",
    "X_test = X_test[..., np.newaxis]\n",
    "X_validation = X_validation[..., np.newaxis]"
   ]
  },
  {
   "cell_type": "code",
   "execution_count": 7,
   "metadata": {},
   "outputs": [
    {
     "name": "stdout",
     "output_type": "stream",
     "text": [
      "shape of x train - (41926, 44, 13, 1)\n",
      "shape of x validation - (10482, 44, 13, 1)\n",
      "shape of x test - (13103, 44, 13, 1)\n"
     ]
    }
   ],
   "source": [
    "print('shape of x train - {}'.format(X_train.shape))\n",
    "print('shape of x validation - {}'.format(X_validation.shape))\n",
    "print('shape of x test - {}'.format(X_test.shape))"
   ]
  },
  {
   "cell_type": "code",
   "execution_count": 8,
   "metadata": {},
   "outputs": [
    {
     "name": "stdout",
     "output_type": "stream",
     "text": [
      "Model: \"sequential\"\n",
      "_________________________________________________________________\n",
      "Layer (type)                 Output Shape              Param #   \n",
      "=================================================================\n",
      "conv2d (Conv2D)              (None, 42, 11, 64)        640       \n",
      "_________________________________________________________________\n",
      "batch_normalization (BatchNo (None, 42, 11, 64)        256       \n",
      "_________________________________________________________________\n",
      "max_pooling2d (MaxPooling2D) (None, 21, 6, 64)         0         \n",
      "_________________________________________________________________\n",
      "conv2d_1 (Conv2D)            (None, 19, 4, 32)         18464     \n",
      "_________________________________________________________________\n",
      "batch_normalization_1 (Batch (None, 19, 4, 32)         128       \n",
      "_________________________________________________________________\n",
      "max_pooling2d_1 (MaxPooling2 (None, 10, 2, 32)         0         \n",
      "_________________________________________________________________\n",
      "conv2d_2 (Conv2D)            (None, 9, 1, 32)          4128      \n",
      "_________________________________________________________________\n",
      "batch_normalization_2 (Batch (None, 9, 1, 32)          128       \n",
      "_________________________________________________________________\n",
      "max_pooling2d_2 (MaxPooling2 (None, 5, 1, 32)          0         \n",
      "_________________________________________________________________\n",
      "flatten (Flatten)            (None, 160)               0         \n",
      "_________________________________________________________________\n",
      "dense (Dense)                (None, 64)                10304     \n",
      "_________________________________________________________________\n",
      "dense_1 (Dense)              (None, 31)                2015      \n",
      "=================================================================\n",
      "Total params: 36,063\n",
      "Trainable params: 35,807\n",
      "Non-trainable params: 256\n",
      "_________________________________________________________________\n"
     ]
    }
   ],
   "source": [
    "EPOCHS = 40\n",
    "BATCH_SIZE = 32   # This is the mini batch size \n",
    "PATIENCE = 5\n",
    "learning_rate = 0.0001\n",
    "    \n",
    "        \n",
    "input_shape = (X_train.shape[1], X_train.shape[2], X_train.shape[3])\n",
    "    \n",
    "    \n",
    "# build network architecture using convolutional layers\n",
    "model = tf.keras.models.Sequential()\n",
    "\n",
    "# 1st conv layer\n",
    "model.add(tf.keras.layers.Conv2D(64, (3, 3), activation='relu', input_shape=input_shape,\n",
    "                                     kernel_regularizer=tf.keras.regularizers.l2(0.001)))\n",
    "model.add(tf.keras.layers.BatchNormalization())\n",
    "model.add(tf.keras.layers.MaxPooling2D((3, 3), strides=(2,2), padding='same'))\n",
    "\n",
    "# 2nd conv layer\n",
    "model.add(tf.keras.layers.Conv2D(32, (3, 3), activation='relu',\n",
    "                                     kernel_regularizer=tf.keras.regularizers.l2(0.001)))\n",
    "model.add(tf.keras.layers.BatchNormalization())\n",
    "model.add(tf.keras.layers.MaxPooling2D((3, 3), strides=(2,2), padding='same'))\n",
    "\n",
    "# 3rd conv layer\n",
    "model.add(tf.keras.layers.Conv2D(32, (2, 2), activation='relu',\n",
    "                                     kernel_regularizer=tf.keras.regularizers.l2(0.001)))\n",
    "model.add(tf.keras.layers.BatchNormalization())\n",
    "model.add(tf.keras.layers.MaxPooling2D((2, 2), strides=(2,2), padding='same'))\n",
    "\n",
    "# flatten output and feed into dense layer\n",
    "model.add(tf.keras.layers.Flatten())\n",
    "model.add(tf.keras.layers.Dense(64, activation='relu'))\n",
    "tf.keras.layers.Dropout(0.3)\n",
    "\n",
    "# softmax output layer - since we predict more than one outcome, we use softmax\n",
    "model.add(tf.keras.layers.Dense(31, activation='softmax'))\n",
    "\n",
    "optimiser = tf.optimizers.Adam(learning_rate=learning_rate)\n",
    "\n",
    "# compile model\n",
    "model.compile(optimizer=optimiser,loss='sparse_categorical_crossentropy',metrics=['accuracy'])\n",
    "\n",
    "\n",
    "# print model parameters on console\n",
    "model.summary()\n",
    "\n"
   ]
  },
  {
   "cell_type": "code",
   "execution_count": 9,
   "metadata": {
    "scrolled": false
   },
   "outputs": [
    {
     "name": "stdout",
     "output_type": "stream",
     "text": [
      "Epoch 1/40\n",
      "1311/1311 [==============================] - 50s 38ms/step - loss: 2.9346 - accuracy: 0.2206 - val_loss: 2.1234 - val_accuracy: 0.4441\n",
      "Epoch 2/40\n",
      "1311/1311 [==============================] - 46s 35ms/step - loss: 1.7360 - accuracy: 0.5395 - val_loss: 1.3547 - val_accuracy: 0.6417\n",
      "Epoch 3/40\n",
      "1311/1311 [==============================] - 46s 35ms/step - loss: 1.2190 - accuracy: 0.6759 - val_loss: 1.0281 - val_accuracy: 0.7290\n",
      "Epoch 4/40\n",
      "1311/1311 [==============================] - 45s 35ms/step - loss: 0.9748 - accuracy: 0.7417 - val_loss: 0.8708 - val_accuracy: 0.7747\n",
      "Epoch 5/40\n",
      "1311/1311 [==============================] - 46s 35ms/step - loss: 0.8357 - accuracy: 0.7806 - val_loss: 0.8100 - val_accuracy: 0.7832\n",
      "Epoch 6/40\n",
      "1311/1311 [==============================] - 45s 34ms/step - loss: 0.7399 - accuracy: 0.8070 - val_loss: 0.7148 - val_accuracy: 0.8164\n",
      "Epoch 7/40\n",
      "1311/1311 [==============================] - 45s 34ms/step - loss: 0.6751 - accuracy: 0.8232 - val_loss: 0.6429 - val_accuracy: 0.8348\n",
      "Epoch 8/40\n",
      "1311/1311 [==============================] - 46s 35ms/step - loss: 0.6281 - accuracy: 0.8376 - val_loss: 0.6183 - val_accuracy: 0.8435\n",
      "Epoch 9/40\n",
      "1311/1311 [==============================] - 44s 34ms/step - loss: 0.5870 - accuracy: 0.8473 - val_loss: 0.6482 - val_accuracy: 0.8295\n",
      "Epoch 10/40\n",
      "1311/1311 [==============================] - 44s 34ms/step - loss: 0.5544 - accuracy: 0.8575 - val_loss: 0.5595 - val_accuracy: 0.8600\n",
      "Epoch 11/40\n",
      "1311/1311 [==============================] - 46s 35ms/step - loss: 0.5254 - accuracy: 0.8650 - val_loss: 0.5635 - val_accuracy: 0.8552\n",
      "Epoch 12/40\n",
      "1311/1311 [==============================] - 44s 33ms/step - loss: 0.5022 - accuracy: 0.8719 - val_loss: 0.5436 - val_accuracy: 0.8647\n",
      "Epoch 13/40\n",
      "1311/1311 [==============================] - 45s 34ms/step - loss: 0.4805 - accuracy: 0.8789 - val_loss: 0.5166 - val_accuracy: 0.8746\n",
      "Epoch 14/40\n",
      "1311/1311 [==============================] - 44s 34ms/step - loss: 0.4631 - accuracy: 0.8839 - val_loss: 0.5349 - val_accuracy: 0.8653\n",
      "Epoch 15/40\n",
      "1311/1311 [==============================] - 44s 34ms/step - loss: 0.4457 - accuracy: 0.8878 - val_loss: 0.5100 - val_accuracy: 0.8712\n",
      "Epoch 16/40\n",
      "1311/1311 [==============================] - 45s 34ms/step - loss: 0.4269 - accuracy: 0.8936 - val_loss: 0.4891 - val_accuracy: 0.8770\n",
      "Epoch 17/40\n",
      "1311/1311 [==============================] - 46s 35ms/step - loss: 0.4158 - accuracy: 0.8972 - val_loss: 0.4702 - val_accuracy: 0.8836\n",
      "Epoch 18/40\n",
      "1311/1311 [==============================] - 45s 35ms/step - loss: 0.4068 - accuracy: 0.8987 - val_loss: 0.4793 - val_accuracy: 0.8773\n",
      "Epoch 19/40\n",
      "1311/1311 [==============================] - 44s 34ms/step - loss: 0.3899 - accuracy: 0.9040 - val_loss: 0.4993 - val_accuracy: 0.8724\n",
      "Epoch 20/40\n",
      "1311/1311 [==============================] - 47s 36ms/step - loss: 0.3812 - accuracy: 0.9055 - val_loss: 0.4666 - val_accuracy: 0.8820\n",
      "Epoch 21/40\n",
      "1311/1311 [==============================] - 47s 36ms/step - loss: 0.3656 - accuracy: 0.9104 - val_loss: 0.4640 - val_accuracy: 0.8829\n",
      "Epoch 22/40\n",
      "1311/1311 [==============================] - 44s 34ms/step - loss: 0.3589 - accuracy: 0.9111 - val_loss: 0.4721 - val_accuracy: 0.8816\n",
      "Epoch 23/40\n",
      "1311/1311 [==============================] - 45s 34ms/step - loss: 0.3495 - accuracy: 0.9158 - val_loss: 0.4261 - val_accuracy: 0.8973\n",
      "Epoch 24/40\n",
      "1311/1311 [==============================] - 45s 34ms/step - loss: 0.3412 - accuracy: 0.9160 - val_loss: 0.4310 - val_accuracy: 0.8946\n",
      "Epoch 25/40\n",
      "1311/1311 [==============================] - 45s 35ms/step - loss: 0.3352 - accuracy: 0.9189 - val_loss: 0.4308 - val_accuracy: 0.8919\n",
      "Epoch 26/40\n",
      "1311/1311 [==============================] - 48s 36ms/step - loss: 0.3253 - accuracy: 0.9211 - val_loss: 0.4268 - val_accuracy: 0.8949\n",
      "Epoch 27/40\n",
      "1311/1311 [==============================] - 48s 37ms/step - loss: 0.3185 - accuracy: 0.9226 - val_loss: 0.4141 - val_accuracy: 0.8972\n",
      "Epoch 28/40\n",
      "1311/1311 [==============================] - 7938s 6s/step - loss: 0.3097 - accuracy: 0.9252 - val_loss: 0.4323 - val_accuracy: 0.8937\n",
      "Epoch 29/40\n",
      "1311/1311 [==============================] - 3414s 3s/step - loss: 0.3043 - accuracy: 0.9266 - val_loss: 0.4476 - val_accuracy: 0.8873\n",
      "Epoch 30/40\n",
      "1311/1311 [==============================] - 11029s 8s/step - loss: 0.2975 - accuracy: 0.9288 - val_loss: 0.4263 - val_accuracy: 0.8958\n",
      "Epoch 31/40\n",
      "1311/1311 [==============================] - 7241s 6s/step - loss: 0.2921 - accuracy: 0.9300 - val_loss: 0.4090 - val_accuracy: 0.9006\n",
      "Epoch 32/40\n",
      "1311/1311 [==============================] - 53s 41ms/step - loss: 0.2856 - accuracy: 0.9327 - val_loss: 0.4278 - val_accuracy: 0.8953\n",
      "Epoch 33/40\n",
      "1311/1311 [==============================] - 13598s 10s/step - loss: 0.2826 - accuracy: 0.9322 - val_loss: 0.4037 - val_accuracy: 0.9023\n",
      "Epoch 34/40\n",
      "1311/1311 [==============================] - 3771s 3s/step - loss: 0.2781 - accuracy: 0.9335 - val_loss: 0.4355 - val_accuracy: 0.8917\n",
      "Epoch 35/40\n",
      "1311/1311 [==============================] - 53s 40ms/step - loss: 0.2711 - accuracy: 0.9358 - val_loss: 0.4158 - val_accuracy: 0.8988\n",
      "Epoch 36/40\n",
      "1311/1311 [==============================] - 52s 39ms/step - loss: 0.2632 - accuracy: 0.9378 - val_loss: 0.3906 - val_accuracy: 0.9037\n",
      "Epoch 37/40\n",
      "1311/1311 [==============================] - 48s 36ms/step - loss: 0.2601 - accuracy: 0.9373 - val_loss: 0.3878 - val_accuracy: 0.9067\n",
      "Epoch 38/40\n",
      "1311/1311 [==============================] - 44s 34ms/step - loss: 0.2603 - accuracy: 0.9385 - val_loss: 0.3988 - val_accuracy: 0.9006\n",
      "Epoch 39/40\n",
      "1311/1311 [==============================] - 44s 33ms/step - loss: 0.2490 - accuracy: 0.9418 - val_loss: 0.3911 - val_accuracy: 0.9063\n",
      "Epoch 40/40\n",
      "1311/1311 [==============================] - 46s 35ms/step - loss: 0.2510 - accuracy: 0.9405 - val_loss: 0.3911 - val_accuracy: 0.9062\n"
     ]
    },
    {
     "data": {
      "text/plain": [
       "<tensorflow.python.keras.callbacks.History at 0x7f82bdad0c88>"
      ]
     },
     "execution_count": 9,
     "metadata": {},
     "output_type": "execute_result"
    }
   ],
   "source": [
    "checkpoint_filepath = '/Users/deepak/Desktop/'\n",
    "\n",
    "#earlystop_callback = tf.keras.callbacks.EarlyStopping(monitor='accuracy', min_delta=0.001, patience=5)\n",
    "model_checkpoint_callback = tf.keras.callbacks.ModelCheckpoint(\n",
    "    filepath=checkpoint_filepath,\n",
    "    save_weights_only=True,\n",
    "    monitor='val_accuracy',\n",
    "    mode='max',\n",
    "    save_best_only=True)\n",
    "history = model.fit(X_train,y_train,epochs=40,batch_size=32,validation_data=(X_validation, y_validation),callbacks=[model_checkpoint_callback])\n",
    "history"
   ]
  },
  {
   "cell_type": "code",
   "execution_count": 10,
   "metadata": {},
   "outputs": [
    {
     "name": "stdout",
     "output_type": "stream",
     "text": [
      "410/410 [==============================] - 2s 6ms/step - loss: 0.3989 - accuracy: 0.9032\n",
      "Test loss: 0.3989477753639221, test accuracy: 90.32282829284668\n"
     ]
    }
   ],
   "source": [
    "test_loss, test_acc = model.evaluate(X_test, y_test)\n",
    "print('Test loss: {}, test accuracy: {}'.format(test_loss, 100*test_acc))"
   ]
  },
  {
   "cell_type": "code",
   "execution_count": 11,
   "metadata": {},
   "outputs": [
    {
     "name": "stdout",
     "output_type": "stream",
     "text": [
      "WARNING:tensorflow:From <ipython-input-11-04050f896eca>:2: Sequential.predict_classes (from tensorflow.python.keras.engine.sequential) is deprecated and will be removed after 2021-01-01.\n",
      "Instructions for updating:\n",
      "Please use instead:* `np.argmax(model.predict(x), axis=-1)`,   if your model does multi-class classification   (e.g. if it uses a `softmax` last-layer activation).* `(model.predict(x) > 0.5).astype(\"int32\")`,   if your model does binary classification   (e.g. if it uses a `sigmoid` last-layer activation).\n"
     ]
    },
    {
     "data": {
      "text/plain": [
       "array([24,  1, 11, ..., 17, 25, 27])"
      ]
     },
     "execution_count": 11,
     "metadata": {},
     "output_type": "execute_result"
    }
   ],
   "source": [
    "# Predictions\n",
    "predictions = model.predict_classes(X_test)\n",
    "predictions"
   ]
  },
  {
   "cell_type": "code",
   "execution_count": 12,
   "metadata": {},
   "outputs": [],
   "source": [
    "# Saving X_train, y_train, X_test, X_validation, y_validation, y_test, predictions\n",
    "X_train.dump('/Users/deepak/Desktop/Data Science/Springboard/SB_Capstone2/X_train.dat')\n",
    "y_train.dump('/Users/deepak/Desktop/Data Science/Springboard/SB_Capstone2/y_train.dat')\n",
    "X_test.dump('/Users/deepak/Desktop/Data Science/Springboard/SB_Capstone2/X_test.dat')\n",
    "X_validation.dump('/Users/deepak/Desktop/Data Science/Springboard/SB_Capstone2/X_validation.dat') \n",
    "y_validation.dump('/Users/deepak/Desktop/Data Science/Springboard/SB_Capstone2/y_validation.dat')\n",
    "\n",
    "df_y_test_pred = pd.DataFrame({'y_test': y_test, 'predictions': predictions})\n",
    "df_y_test_pred.to_csv('/Users/deepak/Desktop/Data Science/Springboard/SB_Capstone2/y_test_&_predictions.csv')"
   ]
  },
  {
   "cell_type": "code",
   "execution_count": 13,
   "metadata": {},
   "outputs": [],
   "source": [
    "SAVED_MODEL_PATH = '/Users/deepak/Desktop/Data Science/Springboard/SB_Capstone2/model.h5'\n",
    "model.save(SAVED_MODEL_PATH)"
   ]
  },
  {
   "cell_type": "code",
   "execution_count": 14,
   "metadata": {},
   "outputs": [
    {
     "data": {
      "image/png": "[encoded data removed]",
      "text/plain": [
       "<Figure size 432x288 with 2 Axes>"
      ]
     },
     "metadata": {
      "needs_background": "light"
     },
     "output_type": "display_data"
    }
   ],
   "source": [
    "fig, axs = plt.subplots(2)\n",
    "\n",
    "# create accuracy subplot\n",
    "axs[0].plot(history.history['accuracy'], label='accuracy')\n",
    "axs[0].plot(history.history['val_accuracy'], label='val_accuracy')\n",
    "axs[0].set_ylabel('Accuracy')\n",
    "axs[0].legend(loc='lower right')\n",
    "axs[0].set_title('Accuracy evaluation')\n",
    "\n",
    "# create loss subplot\n",
    "axs[1].plot(history.history['loss'], label='loss')\n",
    "axs[1].plot(history.history['val_loss'], label='val_loss')\n",
    "axs[1].set_xlabel('Epoch')\n",
    "axs[1].set_ylabel('Loss')\n",
    "axs[1].legend(loc='upper right')\n",
    "axs[1].set_title('Loss evaluation')\n",
    "\n",
    "plt.show()\n"
   ]
  },
  {
   "cell_type": "code",
   "execution_count": null,
   "metadata": {},
   "outputs": [],
   "source": []
  }
 ],
 "metadata": {
  "kernelspec": {
   "display_name": "GeneralPyKernal",
   "language": "python",
   "name": "generalpykernal"
  },
  "language_info": {
   "codemirror_mode": {
    "name": "ipython",
    "version": 3
   },
   "file_extension": ".py",
   "mimetype": "text/x-python",
   "name": "python",
   "nbconvert_exporter": "python",
   "pygments_lexer": "ipython3",
   "version": "3.6.8"
  }
 },
 "nbformat": 4,
 "nbformat_minor": 4
}
