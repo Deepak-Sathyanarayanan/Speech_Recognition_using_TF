{
 "cells": [
  {
   "cell_type": "code",
   "execution_count": 1,
   "metadata": {},
   "outputs": [],
   "source": [
    "import librosa\n",
    "import librosa.display\n",
    "import tensorflow as tf\n",
    "import numpy as np\n",
    "import pandas as pd\n",
    "from sklearn.metrics import confusion_matrix"
   ]
  },
  {
   "cell_type": "code",
   "execution_count": 2,
   "metadata": {},
   "outputs": [],
   "source": [
    "X_test = np.load('/Users/deepak/Desktop/Data_Science/Springboard/SB_Capstone2/X_test.dat', allow_pickle=True)\n",
    "df_y_test_pred = pd.read_csv('/Users/deepak/Desktop/Data_Science/Springboard/SB_Capstone2/y_test_&_predictions.csv')"
   ]
  },
  {
   "cell_type": "code",
   "execution_count": 3,
   "metadata": {},
   "outputs": [
    {
     "data": {
      "text/plain": [
       "array([[414,   5,   1,   2,   3,   0,   0,   0,   0,   0,   5,  10,   0,\n",
       "          4,   0,   4,   4,   0,   0,   2,   0,   1,   0,   0,   0,   1,\n",
       "          0,   1,   4,   1,   1],\n",
       "       [  5, 443,   0,   2,   0,   1,   0,   0,   0,   0,   1,   2,   0,\n",
       "         10,   0,   1,   2,   1,   0,   1,   0,   0,   3,   0,   0,   4,\n",
       "          1,   1,   0,   0,   1],\n",
       "       [  1,   0, 317,   0,   5,   3,   3,   1,   0,   0,   1,   4,   1,\n",
       "          1,   0,   0,   1,   1,   0,   8,   0,   0,   1,   0,   1,   0,\n",
       "          0,   0,   1,   2,   1],\n",
       "       [  3,   3,   0, 299,   0,   2,   1,   0,   0,   0,   0,   0,   0,\n",
       "         35,   0,   1,   0,   0,   0,   0,   0,   0,   0,   0,   0,   1,\n",
       "          0,   0,   0,   1,   1],\n",
       "       [  0,   9,   2,   0, 350,   0,   0,   0,   0,   0,   2,   3,   0,\n",
       "          0,   0,   0,   9,   0,   2,   1,   1,   0,   0,   0,   1,   1,\n",
       "          0,   1,   2,   0,   0],\n",
       "       [  0,   0,   1,   0,   0, 337,   0,   0,   0,   0,   0,   0,   0,\n",
       "          1,   0,   0,   0,   0,   0,   4,   0,   1,   1,   0,   0,   1,\n",
       "          0,   0,   0,   0,   0],\n",
       "       [  0,   2,   1,   0,   5,   0, 411,   2,  25,   1,   1,   1,   0,\n",
       "          2,   1,   1,   1,   1,   0,   5,   0,   0,  14,   1,  11,   1,\n",
       "          0,   2,   0,   2,   2],\n",
       "       [  0,   1,   1,   0,   1,   0,   4, 292,   6,   1,   3,   0,   2,\n",
       "          0,   0,   1,   3,   0,   0,   0,   0,   1,   0,   0,   8,   0,\n",
       "          0,   4,   0,   1,   3],\n",
       "       [  0,   1,   2,   0,   0,   1,  16,   3, 408,   3,   6,   3,   1,\n",
       "          2,   0,   1,   3,   1,   0,   5,   0,   0,   0,   0,  10,   0,\n",
       "          1,   0,   0,   1,   0],\n",
       "       [  0,   0,   0,   0,   0,   0,   2,   0,   1, 305,   1,   0,   1,\n",
       "          0,   0,  12,   0,   0,   0,   1,   0,   0,   0,   0,   0,   0,\n",
       "          0,   2,   1,   1,   0],\n",
       "       [  6,   0,   0,   0,   4,   0,   0,   0,   0,   2, 444,   1,   1,\n",
       "          3,   0,  12,   1,   2,   0,   0,   0,   1,   1,   0,   1,   0,\n",
       "          0,   2,   3,   1,   0],\n",
       "       [  4,   0,   1,   1,   4,   0,   4,   0,   0,   0,   5, 436,   0,\n",
       "          1,   2,   3,   2,   0,   0,   4,   0,   1,   2,   0,   0,   1,\n",
       "          7,   1,   1,   1,   1],\n",
       "       [  0,   0,   7,   1,   0,   0,   1,   4,   1,   1,   0,   2, 458,\n",
       "          1,   0,   1,   1,   0,   7,  11,   0,   0,   3,   0,   2,   2,\n",
       "          1,   1,   5,   4,   1],\n",
       "       [  6,   5,   0,  36,   1,   1,   1,   0,   0,   0,   4,   2,   0,\n",
       "        416,   1,   3,   1,   1,   0,   0,   0,   1,   1,   0,   1,   1,\n",
       "          0,   0,   0,   0,   1],\n",
       "       [  0,   3,   0,   4,   0,   0,   0,   0,   0,   0,   0,   4,   0,\n",
       "          0, 318,   1,   0,   2,   0,   1,   0,   0,   2,   0,   0,   2,\n",
       "          0,   0,   0,   0,   5],\n",
       "       [  0,   0,   0,   0,   0,   0,   0,   0,   1,   1,   1,   0,   0,\n",
       "          0,   0, 441,   0,   0,   2,   0,   0,   2,   1,   0,   0,   1,\n",
       "          0,   6,   1,   0,   3],\n",
       "       [  1,   0,   0,   0,   4,   0,   0,   1,   0,   1,   4,   1,   0,\n",
       "          1,   0,   2, 308,   0,   0,   3,   0,   3,   0,   0,   0,   0,\n",
       "          1,   0,   0,   1,   0],\n",
       "       [  0,   2,   3,   1,   0,   0,   0,   0,   2,   0,   2,   2,   0,\n",
       "          2,  11,   0,   0, 460,   0,   1,   0,   0,   8,   0,   0,   1,\n",
       "          0,   3,   0,   0,   2],\n",
       "       [  3,   0,   1,   0,   2,   0,   0,   0,   0,   0,   2,   1,   3,\n",
       "          3,   1,   1,   0,   0, 396,   3,   1,   2,   3,   0,   0,   3,\n",
       "          0,   2,   0,   1,   4],\n",
       "       [  1,   1,   2,   0,   3,   1,   1,   0,   0,   1,   0,   0,   1,\n",
       "          3,   0,   0,   4,   0,   1, 452,   0,   0,   3,   0,   0,   2,\n",
       "          0,   6,   3,   9,   1],\n",
       "       [  2,   0,   0,   0,   0,   0,   0,   0,   0,   0,   0,   0,   0,\n",
       "          0,   0,   0,   1,   0,   1,   1, 160,   0,   0,   0,   0,   1,\n",
       "          0,   1,   0,   0,   0],\n",
       "       [  0,   0,   1,   0,   0,   0,   0,   0,   0,   0,   3,   0,   0,\n",
       "          2,   0,   4,   5,   0,   0,   0,   0, 321,   0,   0,   0,   0,\n",
       "          0,   1,   0,   0,   0],\n",
       "       [  0,   3,   0,   4,   0,   0,   7,   0,   1,   0,   0,   0,   0,\n",
       "          5,   6,   0,   1,   5,   2,   2,   0,   0, 421,   0,   1,   0,\n",
       "          0,   0,   0,   0,   2],\n",
       "       [  1,   0,   2,   0,   0,   1,   1,   0,   0,   1,   0,   0,   0,\n",
       "          1,   0,   0,   1,   0,   0,   4,   0,   0,   2, 328,   0,   0,\n",
       "          0,   1,   0,   7,   1],\n",
       "       [  0,   0,   6,   0,   1,   0,  11,  10,  17,   2,   5,   1,   1,\n",
       "          0,   0,   3,   1,   0,   0,   0,   0,   0,   5,   0, 415,   0,\n",
       "          1,   0,   1,   0,   0],\n",
       "       [  4,  10,   0,   1,   3,   1,   0,   0,   0,   0,   1,   0,   0,\n",
       "          4,   0,   0,   1,   1,   4,   0,   1,   0,   2,   0,   0, 437,\n",
       "          0,   0,   1,   1,   1],\n",
       "       [  0,   4,   1,   0,   1,   0,   0,   1,   0,   0,   2,  11,   0,\n",
       "          1,   4,   2,   0,   0,   0,   1,   0,   0,   0,   1,   0,   2,\n",
       "        412,   1,   0,   3,   0],\n",
       "       [  1,   0,   0,   0,   0,   1,   1,   1,   0,   1,   1,   1,   0,\n",
       "          5,   0,  17,   4,   0,   0,   4,   0,   2,   0,   0,   0,   0,\n",
       "          0, 409,   9,   5,   7],\n",
       "       [ 10,   2,   1,   2,   1,   0,   0,   1,   0,   1,   5,   1,   1,\n",
       "          6,   0,   7,   1,   0,   0,   1,   0,   1,   0,   0,   0,   2,\n",
       "          0,  22, 391,   3,   3],\n",
       "       [  0,   1,   0,   0,   0,   1,   1,   0,   0,   1,   0,   0,   0,\n",
       "          3,   0,   1,   0,   0,   0,  21,   0,   2,   2,   4,   0,   1,\n",
       "          0,  14,   0, 412,   4],\n",
       "       [  1,   0,   0,   0,   0,   0,   1,   0,   0,   0,   3,   1,   2,\n",
       "          6,   3,   4,   4,   1,   0,   5,   0,   1,   2,   0,   0,   0,\n",
       "          0,   4,   5,   5, 424]])"
      ]
     },
     "execution_count": 3,
     "metadata": {},
     "output_type": "execute_result"
    }
   ],
   "source": [
    "confusion_matrix(df_y_test_pred['y_test'], df_y_test_pred['predictions'])"
   ]
  },
  {
   "cell_type": "code",
   "execution_count": 4,
   "metadata": {},
   "outputs": [],
   "source": [
    "SAVED_MODEL_PATH = \"/Users/deepak/Desktop/Data_Science/Springboard/SB_Capstone2/model.h5\"\n",
    "\n",
    "#Load Model\n",
    "model = tf.keras.models.load_model(SAVED_MODEL_PATH)"
   ]
  },
  {
   "cell_type": "code",
   "execution_count": 5,
   "metadata": {},
   "outputs": [],
   "source": [
    "predictProbabilities = (model.predict(X_test))\n",
    "top5Predictions = [(-i).argsort()[:5] for i in predictProbabilities]\n",
    "df_y_test_pred['top5'] = top5Predictions"
   ]
  },
  {
   "cell_type": "code",
   "execution_count": 6,
   "metadata": {},
   "outputs": [
    {
     "data": {
      "text/html": [
       "<div>\n",
       "<style scoped>\n",
       "    .dataframe tbody tr th:only-of-type {\n",
       "        vertical-align: middle;\n",
       "    }\n",
       "\n",
       "    .dataframe tbody tr th {\n",
       "        vertical-align: top;\n",
       "    }\n",
       "\n",
       "    .dataframe thead th {\n",
       "        text-align: right;\n",
       "    }\n",
       "</style>\n",
       "<table border=\"1\" class=\"dataframe\">\n",
       "  <thead>\n",
       "    <tr style=\"text-align: right;\">\n",
       "      <th></th>\n",
       "      <th>Unnamed: 0</th>\n",
       "      <th>y_test</th>\n",
       "      <th>predictions</th>\n",
       "      <th>top5</th>\n",
       "    </tr>\n",
       "  </thead>\n",
       "  <tbody>\n",
       "    <tr>\n",
       "      <th>0</th>\n",
       "      <td>0</td>\n",
       "      <td>2</td>\n",
       "      <td>24</td>\n",
       "      <td>[24, 2, 7, 12, 21]</td>\n",
       "    </tr>\n",
       "    <tr>\n",
       "      <th>1</th>\n",
       "      <td>1</td>\n",
       "      <td>1</td>\n",
       "      <td>1</td>\n",
       "      <td>[1, 4, 0, 25, 5]</td>\n",
       "    </tr>\n",
       "    <tr>\n",
       "      <th>2</th>\n",
       "      <td>2</td>\n",
       "      <td>11</td>\n",
       "      <td>11</td>\n",
       "      <td>[11, 0, 15, 26, 21]</td>\n",
       "    </tr>\n",
       "    <tr>\n",
       "      <th>3</th>\n",
       "      <td>3</td>\n",
       "      <td>13</td>\n",
       "      <td>3</td>\n",
       "      <td>[3, 13, 5, 1, 16]</td>\n",
       "    </tr>\n",
       "    <tr>\n",
       "      <th>4</th>\n",
       "      <td>4</td>\n",
       "      <td>18</td>\n",
       "      <td>30</td>\n",
       "      <td>[30, 22, 15, 19, 6]</td>\n",
       "    </tr>\n",
       "  </tbody>\n",
       "</table>\n",
       "</div>"
      ],
      "text/plain": [
       "   Unnamed: 0  y_test  predictions                 top5\n",
       "0           0       2           24   [24, 2, 7, 12, 21]\n",
       "1           1       1            1     [1, 4, 0, 25, 5]\n",
       "2           2      11           11  [11, 0, 15, 26, 21]\n",
       "3           3      13            3    [3, 13, 5, 1, 16]\n",
       "4           4      18           30  [30, 22, 15, 19, 6]"
      ]
     },
     "execution_count": 6,
     "metadata": {},
     "output_type": "execute_result"
    }
   ],
   "source": [
    "df_y_test_pred.head()"
   ]
  },
  {
   "cell_type": "code",
   "execution_count": 7,
   "metadata": {},
   "outputs": [],
   "source": [
    "df_y_test_pred.to_csv(\"/Users/deepak/Desktop/Data_Science/Springboard/SB_Capstone2/predictionsDF.csv\")"
   ]
  },
  {
   "cell_type": "markdown",
   "metadata": {},
   "source": [
    "<br>"
   ]
  },
  {
   "cell_type": "markdown",
   "metadata": {},
   "source": [
    "<br>"
   ]
  },
  {
   "cell_type": "markdown",
   "metadata": {},
   "source": [
    "#### Predicting s test audio file"
   ]
  },
  {
   "cell_type": "code",
   "execution_count": 8,
   "metadata": {},
   "outputs": [],
   "source": [
    "mapping = ['right', 'eight', 'cat', 'tree', 'bed', 'happy', 'go', 'dog', 'no', 'wow', 'nine', 'left', 'stop', 'three', 'sheila', 'one', 'bird', 'zero', 'seven', 'up', 'noise', 'marvin', 'two', 'house', 'down', 'six', 'yes', 'on', 'five', 'off', 'four']"
   ]
  },
  {
   "cell_type": "code",
   "execution_count": 9,
   "metadata": {},
   "outputs": [],
   "source": [
    "#file_path = \"/Users/deepak/Desktop/Data_Science/Springboard/SB_Capstone2/test/bed.wav\"\n",
    "#file_path = \"/Users/deepak/Desktop/Data_Science/Springboard/SB_Capstone2/test/down.wav\"\n",
    "file_path = \"/Users/deepak/Desktop/Data_Science/Springboard/SB_Capstone2/test/up.wav\"\n",
    "\n",
    "SAMPLES_TO_CONSIDER = 22050\n",
    "num_mfcc=13\n",
    "n_fft=2048\n",
    "hop_length=512"
   ]
  },
  {
   "cell_type": "code",
   "execution_count": 10,
   "metadata": {},
   "outputs": [
    {
     "data": {
      "text/plain": [
       "<matplotlib.collections.PolyCollection at 0x7fa7436f57f0>"
      ]
     },
     "execution_count": 10,
     "metadata": {},
     "output_type": "execute_result"
    },
    {
     "data": {
      "image/png": "[encoded data removed]",
      "text/plain": [
       "<Figure size 432x288 with 1 Axes>"
      ]
     },
     "metadata": {
      "needs_background": "light"
     },
     "output_type": "display_data"
    }
   ],
   "source": [
    "#Preprocess the test file\n",
    "signal, sample_rate = librosa.load(file_path, sr=None)\n",
    "\n",
    "#Plot\n",
    "librosa.display.waveplot(signal)"
   ]
  },
  {
   "cell_type": "code",
   "execution_count": 11,
   "metadata": {},
   "outputs": [
    {
     "data": {
      "text/plain": [
       "(1, 44, 13, 1)"
      ]
     },
     "execution_count": 11,
     "metadata": {},
     "output_type": "execute_result"
    }
   ],
   "source": [
    "#Preprocessing the input\n",
    "\n",
    "zero_padding = 22050 - len(signal)\n",
    "signal = np.pad(signal,(0,zero_padding), 'constant')\n",
    "MFCCs = librosa.feature.mfcc(signal, sample_rate, n_mfcc=13, n_fft=2048,hop_length=512)\n",
    "MFCCs = MFCCs.T\n",
    "MFCCs.shape\n",
    "MFCCs = MFCCs[np.newaxis, ..., np.newaxis]\n",
    "MFCCs.shape"
   ]
  },
  {
   "cell_type": "code",
   "execution_count": 12,
   "metadata": {},
   "outputs": [
    {
     "name": "stdout",
     "output_type": "stream",
     "text": [
      "up\n"
     ]
    }
   ],
   "source": [
    "#Predictions\n",
    "\n",
    "predictions = model.predict(MFCCs)\n",
    "predicted_index = np.argmax(predictions)\n",
    "predicted_keyword = mapping[predicted_index]\n",
    "print(predicted_keyword)"
   ]
  },
  {
   "cell_type": "code",
   "execution_count": null,
   "metadata": {},
   "outputs": [],
   "source": []
  }
 ],
 "metadata": {
  "kernelspec": {
   "display_name": "GeneralPyKernal",
   "language": "python",
   "name": "generalpykernal"
  },
  "language_info": {
   "codemirror_mode": {
    "name": "ipython",
    "version": 3
   },
   "file_extension": ".py",
   "mimetype": "text/x-python",
   "name": "python",
   "nbconvert_exporter": "python",
   "pygments_lexer": "ipython3",
   "version": "3.6.8"
  }
 },
 "nbformat": 4,
 "nbformat_minor": 4
}
